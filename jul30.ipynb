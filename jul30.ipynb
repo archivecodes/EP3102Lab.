{
 "cells": [
  {
   "cell_type": "code",
   "execution_count": 1,
   "id": "4acdf660",
   "metadata": {},
   "outputs": [],
   "source": [
    "import csv\n",
    "from datetime import datetime"
   ]
  },
  {
   "cell_type": "code",
   "execution_count": 2,
   "id": "dc4e7090",
   "metadata": {},
   "outputs": [],
   "source": [
    "name = str(input())\n",
    "data = [['name', 'number', 'timedelay', 'timestamp']]\n",
    "temp = []        #used to store the values of seconds to calculate timedelay\n",
    "i = 0            #initialize the loop value\n",
    "while True:\n",
    "    number = str(input())\n",
    "    if number == 'quit'or number == '' :\n",
    "        break\n",
    "    else:\n",
    "        timestamp = datetime.now()        #format = dd/mm/yyyy hh:mm:ss\n",
    "        seconds = timestamp.second        #get the ss\n",
    "        temp.append(seconds)              #add the current ss in a list to calculate timedelay\n",
    "        timestamp = timestamp.strftime('%H:%M:%S')   # change the timestamp format to hh:mm:ss\n",
    "\n",
    "        if i == 0:                         #the countdown starts from the 1st number\n",
    "            timedelay = 0\n",
    "        elif temp[i] < temp[i-1]:\n",
    "            timedelay = 60 - (temp[i] - temp[i-1])\n",
    "        elif temp[i] >= temp[i-1]:\n",
    "            timedelay = temp[i] - temp[i-1]\n",
    "\n",
    "        data.append([name, int(number), timedelay, timestamp])\n",
    "        i += 1      #increment the loop number"
   ]
  },
  {
   "cell_type": "code",
   "execution_count": 5,
   "id": "0261e2c7",
   "metadata": {},
   "outputs": [],
   "source": [
    "with open('july30.csv', 'w', newline='') as csvfile:\n",
    "    writer = csv.writer(csvfile)\n",
    "    writer.writerows(data)"
   ]
  }
 ],
 "metadata": {
  "kernelspec": {
   "display_name": ".sem5",
   "language": "python",
   "name": "python3"
  },
  "language_info": {
   "codemirror_mode": {
    "name": "ipython",
    "version": 3
   },
   "file_extension": ".py",
   "mimetype": "text/x-python",
   "name": "python",
   "nbconvert_exporter": "python",
   "pygments_lexer": "ipython3",
   "version": "3.12.3"
  }
 },
 "nbformat": 4,
 "nbformat_minor": 5
}
